{
 "cells": [
  {
   "cell_type": "markdown",
   "metadata": {},
   "source": [
    "### Trong project này, chúng ta sẽ làm 1 trò chơi nhỏ mang tên đoán số. Cụ thể, Máy tính sẽ chọn random 1 số từ 1 đến 10. \n",
    "### Chúng ta sẽ đoán máy tính chọn số bao nhiêu?\n",
    "#### - Nếu số chúng ta đoán thấp hơn máy tính thì in ra \"your guess is too low\"\n",
    "#### - Nếu số chúng ta đoán cao hơn máy tính thì in ra \"your guess is too high\"\n",
    "#### - Nếu chúng ta đoán đúng số thì in ra \"you got the right number after\" xx \"tries\" trong đó xx là số lần đoán.\n",
    "#### - Trường hợp 5 lần đoán sai thì sẽ dừng trò chơi và in ra \"Gameover!!! The number was yy\" trong đó yy là số mà máy tính chọn\n",
    "\n",
    "#### Những kiến thức cover trong project này: input(), print(), while loop, if else, break."
   ]
  },
  {
   "cell_type": "code",
   "execution_count": 12,
   "metadata": {},
   "outputs": [
    {
     "name": "stdout",
     "output_type": "stream",
     "text": [
      "May I ask you for your name?\n",
      "f\n",
      "Welcome f to the guessing game! Go ahead!\n",
      "Your choice: 1\n",
      "Your guess is too low , 4  attemps remaining\n",
      " \n",
      "Your choice: 1\n",
      "Your guess is too low , 3  attemps remaining\n",
      " \n",
      "Your choice: 1\n",
      "Your guess is too low , 2  attemps remaining\n",
      " \n",
      "Your choice: 1\n",
      "Your guess is too low , 1  attemps remaining\n",
      " \n",
      "Your choice: 1\n",
      "Your guess is too low , 0  attemps remaining\n",
      " \n",
      "Gameover!!!, computer chooses  6\n",
      "Do you want to play again? type y for yes\n",
      "1\n"
     ]
    }
   ],
   "source": [
    "import random #bring in the random number\n",
    "num=random.randint(1, 10) #pick the number between 1 and 10\n",
    "\n",
    "def intro():\n",
    "    print(\"May I ask you for your name?\")\n",
    "    name=input() #asks for the name\n",
    "    print(\"Welcome \"+ name + \" to the guessing game! Go ahead!\")\n",
    "\n",
    "def pick():\n",
    "    guessesTaken = 0\n",
    "    isIncorrect = True\n",
    "    while guessesTaken < 5 and isIncorrect: #5 times to try\n",
    "        guess = int(input(\"Your choice: \")) #stores the guess as an integer instead of a string    \n",
    "        guessesTaken += 1 #adds one guess each time the player is wrong\n",
    "        \n",
    "        if guess == num:\n",
    "            isIncorrect = False\n",
    "            print(\"You win after \", str(guessesTaken), \" Tries\")\n",
    "        elif guess < num:\n",
    "            print(\"Your guess is too low ,\", str(5 - guessesTaken), \" attemps remaining\")\n",
    "        elif guess > num:\n",
    "            print( \"Your guess is too high ,\", str( 5- guessesTaken), \" attemps remaining\")\n",
    "            \n",
    "        print( \" \")\n",
    "        \n",
    "        if guessesTaken ==5 and isIncorrect:\n",
    "            print( \"Gameover!!!, computer chooses \", str(num))\n",
    "\n",
    "\n",
    "playagain=\"yes\"\n",
    "while playagain==\"yes\" or playagain==\"y\":\n",
    "    intro()\n",
    "    pick()\n",
    "    print(\"Do you want to play again? type y for yes\")\n",
    "    playagain=input()"
   ]
  }
 ],
 "metadata": {
  "kernelspec": {
   "display_name": "Python 3 (ipykernel)",
   "language": "python",
   "name": "python3"
  },
  "language_info": {
   "codemirror_mode": {
    "name": "ipython",
    "version": 3
   },
   "file_extension": ".py",
   "mimetype": "text/x-python",
   "name": "python",
   "nbconvert_exporter": "python",
   "pygments_lexer": "ipython3",
   "version": "3.9.12"
  }
 },
 "nbformat": 4,
 "nbformat_minor": 2
}
